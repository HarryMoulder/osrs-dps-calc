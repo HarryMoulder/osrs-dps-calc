{
 "cells": [
  {
   "cell_type": "code",
   "execution_count": 1,
   "metadata": {},
   "outputs": [
    {
     "name": "stderr",
     "output_type": "stream",
     "text": [
      "C:\\Users\\Harry\\anaconda3\\lib\\site-packages\\IPython\\html.py:14: ShimWarning: The `IPython.html` package has been deprecated since IPython 4.0. You should import from `notebook` instead. `IPython.html.widgets` has moved to `ipywidgets`.\n",
      "  \"`IPython.html.widgets` has moved to `ipywidgets`.\", ShimWarning)\n"
     ]
    }
   ],
   "source": [
    "from selenium import webdriver\n",
    "from bs4 import BeautifulSoup\n",
    "import pandas as pd\n",
    "import numpy as np\n",
    "from IPython.html import widgets\n",
    "from IPython.display import display"
   ]
  },
  {
   "cell_type": "code",
   "execution_count": 2,
   "metadata": {},
   "outputs": [],
   "source": [
    "driver = webdriver.Chrome(\"/Program Files (x86)/Google/Chrome/Application/Chromedriver\")"
   ]
  },
  {
   "cell_type": "code",
   "execution_count": 3,
   "metadata": {},
   "outputs": [],
   "source": [
    "gear=[0,0,0,0,0,0,0,0,0,0,0]\n",
    "str_lvl=99\n",
    "att_lvl=99"
   ]
  },
  {
   "cell_type": "code",
   "execution_count": 4,
   "metadata": {},
   "outputs": [],
   "source": [
    "slots=[['Head_slot_table',],['Cape_slot_table',],['Neck_slot_table',],['Ammunition_slot_table',],['Weapon_slot_table',]\n",
    "       ,['Shield_slot_table',],['Body_slot_table',],['Legs_slot_table',],['Hands_slot_table',],['Feet_slot_table',]\n",
    "       ,['Ring_slot_table',],['Two-handed_slot_table',]] \n",
    "#print(len(slots))\n",
    "\n",
    "#reading the wiki pages for items available in each slot and storing a list of those items\n",
    "i=0\n",
    "while i < 12:   \n",
    "    driver.get(\"https://oldschool.runescape.wiki/w/\"+slots[i][0])\n",
    "    content = driver.page_source\n",
    "    soup = BeautifulSoup(content)\n",
    "    for a in soup.findAll('table',href=False, attrs={'class':'wikitable sortable align-center jquery-tablesorter'}):\n",
    "        data=a.findAll('a', title=True, attrs={'title':'title'})\n",
    "        j = 0\n",
    "        while j < (len(data)-14)/2:\n",
    "            #skipping the first 14 values as these are column headers on the page and every 2nd value is the members/nonmembers symbol\n",
    "            slots[i]+=data[14+(2*j)]\n",
    "            j += 1\n",
    "        i+=1\n"
   ]
  },
  {
   "cell_type": "code",
   "execution_count": 5,
   "metadata": {},
   "outputs": [
    {
     "name": "stdout",
     "output_type": "stream",
     "text": [
      "3rd age druidic staff\n"
     ]
    }
   ],
   "source": [
    "#checking that 4 has loaded properly\n",
    "print(slots[4][3]) "
   ]
  },
  {
   "cell_type": "code",
   "execution_count": 6,
   "metadata": {},
   "outputs": [
    {
     "data": {
      "application/vnd.jupyter.widget-view+json": {
       "model_id": "58e86655e4f542d5af038838060e82cc",
       "version_major": 2,
       "version_minor": 0
      },
      "text/plain": [
       "Dropdown(description='Head_slot_table', options=(('None', 'none'), ('3rd age full helmet', '3rd_age_full_helme…"
      ]
     },
     "metadata": {},
     "output_type": "display_data"
    },
    {
     "data": {
      "application/vnd.jupyter.widget-view+json": {
       "model_id": "a1ab59d46d6b4a9f926e6cff92a36259",
       "version_major": 2,
       "version_minor": 0
      },
      "text/plain": [
       "Dropdown(description='Cape_slot_table', options=(('None', 'none'), ('3rd age cloak', '3rd_age_cloak'), ('3rd a…"
      ]
     },
     "metadata": {},
     "output_type": "display_data"
    },
    {
     "data": {
      "application/vnd.jupyter.widget-view+json": {
       "model_id": "6e6f61428ee4454c9d0f9539f2b27a87",
       "version_major": 2,
       "version_minor": 0
      },
      "text/plain": [
       "Dropdown(description='Neck_slot_table', options=(('None', 'none'), (\"'perfect' necklace\", \"'perfect'_necklace\"…"
      ]
     },
     "metadata": {},
     "output_type": "display_data"
    },
    {
     "data": {
      "application/vnd.jupyter.widget-view+json": {
       "model_id": "7a85c4d227554474a5e910c455e4f957",
       "version_major": 2,
       "version_minor": 0
      },
      "text/plain": [
       "Dropdown(description='Ammunition_slot_table', options=(('None', 'none'), ('Adamant arrow#(p)', 'Adamant_arrow#…"
      ]
     },
     "metadata": {},
     "output_type": "display_data"
    },
    {
     "data": {
      "application/vnd.jupyter.widget-view+json": {
       "model_id": "e20ec33f1b7741b8bdaf426677332ffd",
       "version_major": 2,
       "version_minor": 0
      },
      "text/plain": [
       "Dropdown(description='Weapon_slot_table', options=(('None', 'none'), (\"'24-carat' sword\", \"'24-carat'_sword\"),…"
      ]
     },
     "metadata": {},
     "output_type": "display_data"
    },
    {
     "data": {
      "application/vnd.jupyter.widget-view+json": {
       "model_id": "a7a7b43d72ff4a60834037b20c610484",
       "version_major": 2,
       "version_minor": 0
      },
      "text/plain": [
       "Dropdown(description='Shield_slot_table', options=(('None', 'none'), ('3rd age kiteshield', '3rd_age_kiteshiel…"
      ]
     },
     "metadata": {},
     "output_type": "display_data"
    },
    {
     "data": {
      "application/vnd.jupyter.widget-view+json": {
       "model_id": "c7027ff35c06415ca83c6c00f2e9f5f6",
       "version_major": 2,
       "version_minor": 0
      },
      "text/plain": [
       "Dropdown(description='Body_slot_table', options=(('None', 'none'), ('3rd age druidic robe top', '3rd_age_druid…"
      ]
     },
     "metadata": {},
     "output_type": "display_data"
    },
    {
     "data": {
      "application/vnd.jupyter.widget-view+json": {
       "model_id": "59fb02c6846344f8a7416bf47902b59d",
       "version_major": 2,
       "version_minor": 0
      },
      "text/plain": [
       "Dropdown(description='Legs_slot_table', options=(('None', 'none'), ('3rd age druidic robe bottoms', '3rd_age_d…"
      ]
     },
     "metadata": {},
     "output_type": "display_data"
    },
    {
     "data": {
      "application/vnd.jupyter.widget-view+json": {
       "model_id": "2288a1eb65774d40a4b37adb07182ad8",
       "version_major": 2,
       "version_minor": 0
      },
      "text/plain": [
       "Dropdown(description='Hands_slot_table', options=(('None', 'none'), ('3rd age vambraces', '3rd_age_vambraces')…"
      ]
     },
     "metadata": {},
     "output_type": "display_data"
    },
    {
     "data": {
      "application/vnd.jupyter.widget-view+json": {
       "model_id": "9abbd58d44544929907199a979d2395e",
       "version_major": 2,
       "version_minor": 0
      },
      "text/plain": [
       "Dropdown(description='Feet_slot_table', options=(('None', 'none'), ('Adamant boots', 'Adamant_boots'), (\"Ancie…"
      ]
     },
     "metadata": {},
     "output_type": "display_data"
    },
    {
     "data": {
      "application/vnd.jupyter.widget-view+json": {
       "model_id": "295d43c3f1e24f4e82021c3af3525bd5",
       "version_major": 2,
       "version_minor": 0
      },
      "text/plain": [
       "Dropdown(description='Ring_slot_table', options=(('None', 'none'), (\"'perfect' ring\", \"'perfect'_ring\"), ('Arc…"
      ]
     },
     "metadata": {},
     "output_type": "display_data"
    },
    {
     "data": {
      "application/vnd.jupyter.widget-view+json": {
       "model_id": "e8b7b264615c40cab33b115fa122916f",
       "version_major": 2,
       "version_minor": 0
      },
      "text/plain": [
       "Dropdown(description='Two-handed_slot_table', options=(('None', 'none'), ('3rd age bow', '3rd_age_bow'), ('Aby…"
      ]
     },
     "metadata": {},
     "output_type": "display_data"
    }
   ],
   "source": [
    "finaloptionslist=[]\n",
    "for l in range(len(slots)):\n",
    "    finaloptionslist.append(0)\n",
    "for i in range(len(slots)):\n",
    "    optionslist=[]\n",
    "    m=0\n",
    "    for k in range(len(slots[i])-1):\n",
    "        if m==0:\n",
    "            #adding a none option to the beginning of every list of itmes\n",
    "            optionslist.append(('None','none'))\n",
    "            m+=1\n",
    "        optionslist.append(0)\n",
    "    for j in range(len(slots[i])-1):\n",
    "        #generating a list of items available in each slot and their corresponding wiki link\n",
    "        optionslist[j+1]=(slots[i][j+1],slots[i][j+1].replace(\" \",\"_\")) \n",
    "        #adding to a final options list of options for EVERY slot\n",
    "        finaloptionslist[i] = optionslist\n",
    "\n",
    "#displaying a widget of the selections available for each slot.\n",
    "helm_widget = widgets.Dropdown(\n",
    "    options=finaloptionslist[0],\n",
    "    description=slots[0][0],\n",
    ")\n",
    "display(helm_widget)\n",
    "\n",
    "cape_widget = widgets.Dropdown(\n",
    "    options=finaloptionslist[1],\n",
    "    description=slots[1][0],\n",
    ")\n",
    "display(cape_widget)\n",
    "\n",
    "neck_widget = widgets.Dropdown(\n",
    "    options=finaloptionslist[2],\n",
    "    description=slots[2][0],\n",
    ")\n",
    "display(neck_widget)\n",
    "\n",
    "ammunition_widget = widgets.Dropdown(\n",
    "    options=finaloptionslist[3],\n",
    "    description=slots[3][0],\n",
    ")\n",
    "display(ammunition_widget)\n",
    "\n",
    "weapon_widget = widgets.Dropdown(\n",
    "    options=finaloptionslist[4],\n",
    "    description=slots[4][0],\n",
    ")\n",
    "display(weapon_widget)\n",
    "\n",
    "shield_widget = widgets.Dropdown(\n",
    "    options=finaloptionslist[5],\n",
    "    description=slots[5][0],\n",
    ")\n",
    "display(shield_widget)\n",
    "\n",
    "body_widget = widgets.Dropdown(\n",
    "    options=finaloptionslist[6],\n",
    "    description=slots[6][0],\n",
    ")\n",
    "display(body_widget)\n",
    "\n",
    "legs_widget = widgets.Dropdown(\n",
    "    options=finaloptionslist[7],\n",
    "    description=slots[7][0],\n",
    ")\n",
    "display(legs_widget)\n",
    "\n",
    "hands_widget = widgets.Dropdown(\n",
    "    options=finaloptionslist[8],\n",
    "    description=slots[8][0],\n",
    ")\n",
    "display(hands_widget)\n",
    "\n",
    "feet_widget = widgets.Dropdown(\n",
    "    options=finaloptionslist[9],\n",
    "    description=slots[9][0],\n",
    ")\n",
    "display(feet_widget)\n",
    "\n",
    "ring_widget = widgets.Dropdown(\n",
    "    options=finaloptionslist[10],\n",
    "    description=slots[10][0],\n",
    ")\n",
    "display(ring_widget)\n",
    "\n",
    "two_handed_widget = widgets.Dropdown(\n",
    "    options=finaloptionslist[11],\n",
    "    description=slots[11][0],\n",
    ")\n",
    "display(two_handed_widget)"
   ]
  },
  {
   "cell_type": "code",
   "execution_count": 7,
   "metadata": {},
   "outputs": [
    {
     "name": "stdout",
     "output_type": "stream",
     "text": [
      "['Helm_of_neitiznot', 'Fire_cape#Normal', 'Amulet_of_torture', 'none', 'Abyssal_whip', 'Dragon_defender#Normal', 'Bandos_chestplate', 'Bandos_tassets', 'Ferocious_gloves', 'Primordial_boots', 'Berserker_ring_(i)', 'none']\n"
     ]
    }
   ],
   "source": [
    "#generating a list of the chosen gear setup\n",
    "gear=[0,0,0,0,0,0,0,0,0,0,0,0]\n",
    "gear[0]=helm_widget.value\n",
    "gear[1]=cape_widget.value\n",
    "gear[2]=neck_widget.value\n",
    "gear[3]=ammunition_widget.value\n",
    "gear[4]=weapon_widget.value\n",
    "gear[5]=shield_widget.value\n",
    "gear[6]=body_widget.value\n",
    "gear[7]=legs_widget.value\n",
    "gear[8]=hands_widget.value\n",
    "gear[9]=feet_widget.value\n",
    "gear[10]=ring_widget.value\n",
    "gear[11]=two_handed_widget.value\n",
    "\n",
    "print(gear)"
   ]
  },
  {
   "cell_type": "code",
   "execution_count": 8,
   "metadata": {},
   "outputs": [
    {
     "name": "stdout",
     "output_type": "stream",
     "text": [
      "0\n",
      "1\n",
      "duplicate page skipped\n",
      "duplicate page skipped\n",
      "16\n",
      "98\n",
      "122\n",
      "duplicate page skipped\n",
      "duplicate page skipped\n",
      "122\n",
      "122\n",
      "138\n",
      "140\n",
      "140\n"
     ]
    }
   ],
   "source": [
    "#tallying up gear stats\n",
    "stab_att=0\n",
    "slash_att=0\n",
    "crush_att=0\n",
    "magic_att=0\n",
    "ranged_att=0\n",
    "stab_def=0\n",
    "slash_def=0\n",
    "crush_def=0\n",
    "magic_def=0\n",
    "ranged_def=0\n",
    "strength_bonus=0\n",
    "ranged_bonus=0\n",
    "mage_bonus=0\n",
    "prayer_bonus=0\n",
    "duplicate_checker=0\n",
    "for i in range(len(gear)):\n",
    "        driver.get(\"https://oldschool.runescape.wiki/w/\"+gear[i])\n",
    "        content = driver.page_source\n",
    "        soup = BeautifulSoup(content)\n",
    "        #print(\"i\")\n",
    "        for a in soup.findAll('table',href=False, attrs={'class':'infobox infobox-bonuses'}):\n",
    "            data=a.findAll('td', attrs={'class':'infobox-nested'})\n",
    "            if duplicate_checker == data[10]:\n",
    "                print('duplicate page skipped')\n",
    "            else:\n",
    "                stab_att += int(data[0].string)\n",
    "                slash_att += int(data[1].string)\n",
    "                crush_att += int(data[2].string)\n",
    "                magic_att += int(data[3].string)\n",
    "                ranged_att += int(data[4].string)\n",
    "                stab_def += int(data[5].string)\n",
    "                slash_def += int(data[6].string)\n",
    "                crush_def += int(data[7].string)\n",
    "                magic_def += int(data[8].string)\n",
    "                ranged_def += int(data[9].string)\n",
    "                strength_bonus += int(data[10].string)\n",
    "                ranged_bonus += int(data[11].string)\n",
    "                #mage_bonus += int(data[12].string)\n",
    "                prayer_bonus += int(data[13].string)\n",
    "                duplicate_checker = data[10]\n",
    "                print(slash_att)"
   ]
  },
  {
   "cell_type": "code",
   "execution_count": 9,
   "metadata": {},
   "outputs": [
    {
     "data": {
      "application/vnd.jupyter.widget-view+json": {
       "model_id": "bd3299434aef4986a89b284ee250f80d",
       "version_major": 2,
       "version_minor": 0
      },
      "text/plain": [
       "Dropdown(description='Attackstyle', options=(('Defensive', 'defensive'), ('Agressive', 'agressive'), ('Accurat…"
      ]
     },
     "metadata": {},
     "output_type": "display_data"
    },
    {
     "data": {
      "application/vnd.jupyter.widget-view+json": {
       "model_id": "cd6f2dd4ec88408cb40aef238aaa6133",
       "version_major": 2,
       "version_minor": 0
      },
      "text/plain": [
       "Dropdown(description='Attacktype', options=(('Crush', 'crush'), ('Stab', 'stab'), ('Slash', 'slash')), value='…"
      ]
     },
     "metadata": {},
     "output_type": "display_data"
    },
    {
     "data": {
      "application/vnd.jupyter.widget-view+json": {
       "model_id": "97bacce37e964e0e90f3580e599e79c7",
       "version_major": 2,
       "version_minor": 0
      },
      "text/plain": [
       "Dropdown(description='Attacktype', options=(('8', 4.8), ('7', 4.2), ('6', 3.6), ('4', 2.4), ('3', 1.8), ('1', …"
      ]
     },
     "metadata": {},
     "output_type": "display_data"
    }
   ],
   "source": [
    "#attackstyle and attack type selection\n",
    "attackstyle_widget = widgets.Dropdown(\n",
    "    options={('Accurate','accurate'),('Agressive','agressive'),('Controlled','controlled'),('Defensive','defensive')},\n",
    "    description='Attackstyle',\n",
    ")\n",
    "\n",
    "display(attackstyle_widget)\n",
    "\n",
    "attacktype_widget = widgets.Dropdown(\n",
    "    options={('Stab','stab'),('Slash','slash'),('Crush','crush')},\n",
    "    description='Attacktype',\n",
    ")\n",
    "\n",
    "display(attacktype_widget)\n",
    "\n",
    "attackspeed_widget = widgets.Dropdown(\n",
    "    options={('1',0.6),('2',1.2),('3',1.8),('4',2.4),('5',3.0),('6',3.6),('7',4.2),('8',4.8),('9',5.4)},\n",
    "    description='Attackspeed',\n",
    ")\n",
    "\n",
    "display(attackspeed_widget)"
   ]
  },
  {
   "cell_type": "code",
   "execution_count": 10,
   "metadata": {},
   "outputs": [],
   "source": [
    "#bonuses for strength and attack in each attackstyle\n",
    "attackstyle_att=0\n",
    "attackstyle_str=0\n",
    "equipment_bonus=0\n",
    "\n",
    "if attackstyle_widget.value=='accurate':\n",
    "    attackstyle_att=3\n",
    "    attackstyle_str=0\n",
    "    \n",
    "if attackstyle_widget.value=='agressive':\n",
    "    attackstyle_att=0\n",
    "    attackstyle_str=3\n",
    "    \n",
    "if attackstyle_widget.value=='controlled':\n",
    "    attackstyle_att=1\n",
    "    attackstyle_str=1\n",
    "    \n",
    "if attackstyle_widget.value=='defensive':\n",
    "    attackstyle_att=0\n",
    "    attackstyle_str=0\n",
    "    \n",
    "if attacktype_widget.value=='stab':\n",
    "    equipment_bonus=stab_att\n",
    "    \n",
    "if attacktype_widget.value=='slash':\n",
    "    equipment_bonus=slash_att\n",
    "    \n",
    "if attacktype_widget.value=='crush':\n",
    "    equipment_bonus=crush_att\n",
    "    "
   ]
  },
  {
   "cell_type": "code",
   "execution_count": 11,
   "metadata": {},
   "outputs": [
    {
     "data": {
      "application/vnd.jupyter.widget-view+json": {
       "model_id": "586723867da54564b375eaed606e428c",
       "version_major": 2,
       "version_minor": 0
      },
      "text/plain": [
       "Dropdown(description='Prayer', options=(('Chivalry', 'chivalry'), ('Piety', 'piety'), ('Rigour', 'rigour'), ('…"
      ]
     },
     "metadata": {},
     "output_type": "display_data"
    }
   ],
   "source": [
    "#prayer selection\n",
    "prayer_widget = widgets.Dropdown(\n",
    "    options={('None','none'),('Chivalry','chivalry'),('Piety','piety'),('Rigour','rigour'),('Augury','augury')},\n",
    "    description='Prayer',\n",
    ")\n",
    "\n",
    "display(prayer_widget)"
   ]
  },
  {
   "cell_type": "code",
   "execution_count": 12,
   "metadata": {},
   "outputs": [],
   "source": [
    "melee_prayer_att=1.0\n",
    "melee_prayer_str=1.0\n",
    "ranged_prayer_att=1.0\n",
    "ranged_prayer_str=1.0\n",
    "mage_prayer_att=1.0\n",
    "if prayer_widget.value=='chivalry':\n",
    "    melee_prayer_att=1.15\n",
    "    melee_prayer_str=1.18\n",
    "    \n",
    "if prayer_widget.value=='piety':\n",
    "    melee_prayer_att=1.20\n",
    "    melee_prayer_str=1.23\n",
    "    \n",
    "if prayer_widget.value=='rigour':\n",
    "    ranged_prayer_att=1.20\n",
    "    ranged_prayer_str=1.23\n",
    "    \n",
    "if prayer_widget.value=='augury':\n",
    "    mage_prayer_att=1.25"
   ]
  },
  {
   "cell_type": "code",
   "execution_count": 13,
   "metadata": {},
   "outputs": [
    {
     "data": {
      "application/vnd.jupyter.widget-view+json": {
       "model_id": "ff2d1114420d4344a9ec6d15811c6cd6",
       "version_major": 2,
       "version_minor": 0
      },
      "text/plain": [
       "Dropdown(description='Potion1', options=(('Attack', 'attackpotion'), ('Combat', 'combatpotion'), ('Strength', …"
      ]
     },
     "metadata": {},
     "output_type": "display_data"
    },
    {
     "data": {
      "application/vnd.jupyter.widget-view+json": {
       "model_id": "71e5abd9649a481a9329cea650d2118d",
       "version_major": 2,
       "version_minor": 0
      },
      "text/plain": [
       "Dropdown(description='Potion2', options=(('Attack', 'attackpotion'), ('Combat', 'combatpotion'), ('Strength', …"
      ]
     },
     "metadata": {},
     "output_type": "display_data"
    }
   ],
   "source": [
    "#potion selection\n",
    "potion_widget1 = widgets.Dropdown(\n",
    "    options={('None','none'),('Attack','attackpotion'),('Strength','strengthpotion'),('Combat','combatpotion'),\n",
    "            ('Super Attack','superattackpotion'),('Super Strength','superstrengthpotion'),('Super Combat','super combatpotion'),\n",
    "            ('Ranging','rangingpotion'),('Magic','magicpotion'),('Imbued Heart','imbuedheart'), ('Overload','overload')\n",
    "            },\n",
    "    description='Potion1',\n",
    ")\n",
    "potion_widget2 = widgets.Dropdown(\n",
    "    options={('None','none'),('Attack','attackpotion'),('Strength','strengthpotion'),('Combat','combatpotion'),\n",
    "            ('Super Attack','superattackpotion'),('Super Strength','superstrengthpotion'),('Super Combat','super combatpotion'),\n",
    "            ('Ranging','rangingpotion'),('Magic','magicpotion'),('Imbued Heart','imbuedheart'), ('Overload','overload')\n",
    "            },\n",
    "    description='Potion2',\n",
    ")\n",
    "\n",
    "display(potion_widget1)\n",
    "display(potion_widget2)"
   ]
  },
  {
   "cell_type": "code",
   "execution_count": 14,
   "metadata": {},
   "outputs": [],
   "source": [
    "potion_att=0\n",
    "potion_str=0\n",
    "potion_ranged=0\n",
    "potion_mage=0\n",
    "\n",
    "if potion_widget1.value=='attackpotion' or potion_widget2.value== 'attackpotion':\n",
    "    potion_att = np.floor(3+0.1*att_lvl)\n",
    "    \n",
    "if potion_widget1.value=='strengthpotion' or potion_widget2.value== 'strengthpotion':\n",
    "    potion_str = np.floor(3+0.1*str_lvl)\n",
    "    \n",
    "if potion_widget1.value=='combatpotion' or potion_widget2.value== 'combatpotion':\n",
    "    potion_str = np.floor(3+0.1*str_lvl)\n",
    "    potion_att = np.floor(3+0.1*att_lvl)\n",
    "\n",
    "if potion_widget1.value=='superattackpotion' or potion_widget2.value== 'superattackpotion':\n",
    "    potion_att = np.floor(5+0.15*att_lvl)\n",
    "    \n",
    "if potion_widget1.value=='superstrengthpotion' or potion_widget2.value== 'superstrengthpotion':\n",
    "    potion_str = np.floor(5+0.15*str_lvl)\n",
    "    \n",
    "if potion_widget1.value=='supercombatpotion' or potion_widget2.value== 'supercombatpotion':\n",
    "    potion_str = np.floor(5+0.15*str_lvl)\n",
    "    potion_att = np.floor(5+0.15*att_lvl)\n",
    "\n",
    "if potion_widget1.value=='rangingpotion' or potion_widget2.value== 'rangingpotion':\n",
    "    potion_ranged = np.floor(4+0.1*ranged_lvl)\n",
    "    \n",
    "if potion_widget1.value=='magepotion' or potion_widget2.value== 'magepotion':\n",
    "    potion_mage = 4\n",
    "    \n",
    "if potion_widget1.value=='imbuedheart' or potion_widget2.value== 'imbuedheart':\n",
    "    potion_mage=np.floor(1+0.1*mage_lvl)\n",
    "\n",
    "if potion_widget1.value=='overload' or potion_widget2.value== 'overload':\n",
    "    potion_mage=np.floor(6+0.16*mage_lvl)\n",
    "    potion_ranged=np.floor(6+0.16*ranged_lvl)\n",
    "    potion_att=np.floor(6+0.16*att_lvl)\n",
    "    potion_str=np.floor(6+0.16*str_lvl)"
   ]
  },
  {
   "cell_type": "code",
   "execution_count": 15,
   "metadata": {},
   "outputs": [
    {
     "name": "stdout",
     "output_type": "stream",
     "text": [
      "153.0\n",
      "48.0\n"
     ]
    }
   ],
   "source": [
    "#maxhit\n",
    "effective_level=np.floor((str_lvl+potion_str)*melee_prayer_str)+attackstyle_str+8\n",
    "print(effective_level)\n",
    "\n",
    "\n",
    "max_hit = np.floor(0.5 + effective_level * (strength_bonus + 64) / 640)\n",
    "if gear[0]== 'slayer_helm':\n",
    "    multiplier = 7/6 #slayer helm\n",
    "else:\n",
    "    multiplier = 1\n",
    "f_max_hit = np.floor(max_hit * multiplier)\n",
    "print(f_max_hit)"
   ]
  },
  {
   "cell_type": "code",
   "execution_count": 16,
   "metadata": {},
   "outputs": [
    {
     "name": "stdout",
     "output_type": "stream",
     "text": [
      "152.0\n",
      "31008.0\n"
     ]
    }
   ],
   "source": [
    "#maxattack\n",
    "effective_level=np.floor((att_lvl+potion_att)*melee_prayer_att)+attackstyle_att+8\n",
    "print(effective_level)\n",
    "\n",
    "max_att_roll = effective_level * (equipment_bonus + 64)\n",
    "if gear[0]== 'slayer_helm':\n",
    "    multiplier = 7/6 #slayer helm\n",
    "else:\n",
    "    multiplier = 1\n",
    "f_max_att_roll = np.floor(max_att_roll * multiplier)\n",
    "print(f_max_att_roll)"
   ]
  },
  {
   "cell_type": "code",
   "execution_count": 17,
   "metadata": {},
   "outputs": [],
   "source": [
    "#get monster stats\n",
    "monster = \"Abyssal_demon\"\n",
    "m_hp=0\n",
    "m_att_lvl=0\n",
    "m_str_lvl=0\n",
    "m_def_lvl=0\n",
    "m_mage_lvl=0\n",
    "m_ranged_lvl=0\n",
    "m_stab_att=0\n",
    "m_slash_att=0\n",
    "m_crush_att=0\n",
    "m_magic_att=0\n",
    "m_ranged_att=0\n",
    "m_stab_def=0\n",
    "m_slash_def=0\n",
    "m_crush_def=0\n",
    "m_magic_def=0\n",
    "m_ranged_def=0\n",
    "m_attack_bonus=0\n",
    "m_strength_bonus=0\n",
    "m_ranged_bonus=0\n",
    "m_ranged_strength=0\n",
    "m_mage_bonus=0\n",
    "\n",
    "driver.get(\"https://oldschool.runescape.wiki/w/\"+monster)\n",
    "content = driver.page_source\n",
    "soup = BeautifulSoup(content)\n",
    "#print(\"i\")\n",
    "for a in soup.findAll('table',href=False, attrs={'class':'plainlinks rsw-infobox infobox infobox-switch no-parenthesis-style infobox-monster'}):\n",
    "    #print(\"i\")\n",
    "    data=a.findAll('td', attrs={'class':'infobox-nested'})\n",
    "    #print(data)\n",
    "    m_hp += int(data[0].string)\n",
    "    m_att_lvl += int(data[1].string)\n",
    "    m_str_lvl += int(data[2].string)\n",
    "    m_def_lvl += int(data[3].string)\n",
    "    m_mage_lvl += int(data[4].string)\n",
    "    m_ranged_lvl += int(data[5].string)\n",
    "    m_attack_bonus += int(data[6].string)\n",
    "    m_strength_bonus += int(data[7].string)\n",
    "    m_mage_bonus += int(data[8].string)\n",
    "    m_ranged_bonus += int(data[10].string)\n",
    "    m_ranged_strength += int(data[11].string)\n",
    "    m_stab_def += int(data[12].string)\n",
    "    m_slash_def += int(data[13].string)\n",
    "    m_crush_def += int(data[14].string)\n",
    "    m_magic_def += int(data[15].string)\n",
    "    m_ranged_def += int(data[16].string)       \n",
    "    #print(data)"
   ]
  },
  {
   "cell_type": "code",
   "execution_count": 18,
   "metadata": {},
   "outputs": [
    {
     "name": "stdout",
     "output_type": "stream",
     "text": [
      "144.0\n",
      "12096.0\n"
     ]
    }
   ],
   "source": [
    "#maxdefence\n",
    "def_lvl = m_def_lvl #monsters def level\n",
    "potion_effect = 0 #monster\n",
    "prayer_def = 1.0 #monster\n",
    "attack_style = 1 #monster\n",
    "effective_level=np.floor((def_lvl+potion_effect)*prayer_def)+attack_style+8\n",
    "print(effective_level)\n",
    "\n",
    "equipment_bonus= m_slash_def #monsters additional defence\n",
    "max_def_roll = effective_level * (equipment_bonus + 64)\n",
    "multiplier = 1 #monster\n",
    "f_max_def_roll = np.floor(max_def_roll * multiplier)\n",
    "print(f_max_def_roll)"
   ]
  },
  {
   "cell_type": "code",
   "execution_count": 19,
   "metadata": {},
   "outputs": [
    {
     "name": "stdout",
     "output_type": "stream",
     "text": [
      "0.804927601664033\n"
     ]
    }
   ],
   "source": [
    "#hitchance\n",
    "if f_max_att_roll > f_max_def_roll:\n",
    "    hit_chance = 1 - (f_max_def_roll + 2) / (2 * (f_max_att_roll + 1))\n",
    "else:\n",
    "    hit_chance = f_max_att_roll / (2 * f_max_def_roll + 1)\n",
    "print(hit_chance)"
   ]
  },
  {
   "cell_type": "code",
   "execution_count": 20,
   "metadata": {
    "scrolled": true
   },
   "outputs": [
    {
     "name": "stdout",
     "output_type": "stream",
     "text": [
      "8.04927601664033\n"
     ]
    }
   ],
   "source": [
    "#dps\n",
    "attack_interval= attackspeed_widget.value\n",
    "dps = hit_chance * (f_max_hit / 2) / attack_interval\n",
    "print(dps)"
   ]
  },
  {
   "cell_type": "code",
   "execution_count": null,
   "metadata": {},
   "outputs": [],
   "source": []
  }
 ],
 "metadata": {
  "kernelspec": {
   "display_name": "Python 3",
   "language": "python",
   "name": "python3"
  },
  "language_info": {
   "codemirror_mode": {
    "name": "ipython",
    "version": 3
   },
   "file_extension": ".py",
   "mimetype": "text/x-python",
   "name": "python",
   "nbconvert_exporter": "python",
   "pygments_lexer": "ipython3",
   "version": "3.7.6"
  }
 },
 "nbformat": 4,
 "nbformat_minor": 2
}
